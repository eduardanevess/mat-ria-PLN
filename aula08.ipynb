{
  "nbformat": 4,
  "nbformat_minor": 0,
  "metadata": {
    "colab": {
      "provenance": [],
      "authorship_tag": "ABX9TyPuImZCFjKg09d0ntKTUNE3",
      "include_colab_link": true
    },
    "kernelspec": {
      "name": "python3",
      "display_name": "Python 3"
    },
    "language_info": {
      "name": "python"
    }
  },
  "cells": [
    {
      "cell_type": "markdown",
      "metadata": {
        "id": "view-in-github",
        "colab_type": "text"
      },
      "source": [
        "<a href=\"https://colab.research.google.com/github/eduardanevess/materia-PLN/blob/master/aula08.ipynb\" target=\"_parent\"><img src=\"https://colab.research.google.com/assets/colab-badge.svg\" alt=\"Open In Colab\"/></a>"
      ]
    },
    {
      "cell_type": "markdown",
      "source": [
        "# Aula 08 - Introdução a Machine Learning para PLN\n",
        "**Objetivo da aula:**\n",
        "*  Introduzir os fundamentos de aprendizado de máquina aplicados ao PLN, focando na classificação de texto e regressão, utilizando algoritmos como Naive Bayes e SVM."
      ],
      "metadata": {
        "id": "MuLywEMrLQJy"
      }
    },
    {
      "cell_type": "markdown",
      "source": [
        "## Exemplo 01 - Aplicação do modelo de Naives em um texto"
      ],
      "metadata": {
        "id": "1a8SgXwzLTnt"
      }
    },
    {
      "cell_type": "code",
      "execution_count": 1,
      "metadata": {
        "colab": {
          "base_uri": "https://localhost:8080/"
        },
        "id": "YNEa-X5-LDW0",
        "outputId": "895a43b1-a853-4d11-e3b4-c837d0f55942"
      },
      "outputs": [
        {
          "output_type": "stream",
          "name": "stdout",
          "text": [
            "[(['eu', 'amo', 'pln'], 'positivo'), (['eu', 'odeio', 'bugs'], 'negativo'), (['amo', 'resolver', 'problemas'], 'positivo'), (['odeio', 'erros'], 'negativo'), (['bugs', 'legais'], 'positivo'), (['resolver'], 'positivo'), (['eu', 'não'], 'negativo')]\n"
          ]
        }
      ],
      "source": [
        "# Passo 1 - Criar o Corpus\n",
        "corpus = [\n",
        "    (\"Eu amo PLN\",\"positivo\"),\n",
        "    (\"Eu odeio bugs\",\"negativo\"),\n",
        "    (\"Amo resolver problemas\",\"positivo\"),\n",
        "    (\"Odeio erros\",\"negativo\"),\n",
        "    (\"Bugs legais\",\"positivo\"),\n",
        "    (\"Resolver\",\"positivo\"),\n",
        "    (\"Eu não\",\"negativo\")\n",
        "]\n",
        "\n",
        "# Passo 2 Pre-Processar o Texto\n",
        "import re\n",
        "from collections import defaultdict, Counter\n",
        "\n",
        "def preprocess_text(text):\n",
        "  return re.findall(r'\\b\\w+\\b',text.lower())\n",
        "\n",
        "processed_corpus = [(preprocess_text(text), label) for text, label in corpus]\n",
        "print(processed_corpus)\n",
        "\n",
        "# Passo 3 - Calculando probabilidades\n",
        "  # Este passo implementa um modelo baseado em probabilidades, como Naive Bayes.\n",
        "class_counts = Counter()  # Conta o número de exemplos em cada classe (positivo ou negativo).\n",
        "word_counts = defaultdict(Counter)  # Conta a frequência de cada palavra em cada classe.\n",
        "total_words = defaultdict(int)  # Mantém o total de palavras em cada classe.\n",
        "\n",
        "for words, label in processed_corpus:\n",
        "  class_counts[label] += 1 # Incrementa a contagem de exemplos para a classe atual.\n",
        "  for word in words:\n",
        "    word_counts[label][word] += 1 # Incrementa a contagem da palavra na classe correspondente.\n",
        "    total_words[label] # Incrementa o total de palavras na classe correspondente.\n",
        "\n",
        "# Calcula a probabilidade a priori (probabilidade de cada classe independente do texto)\n",
        "  # Fórmula: P(classe) = (número de exemplos na classe) / (total de exemplos)\n",
        "total_examples = sum(class_counts.values())\n",
        "prior_probabilities = {cls: count / total_examples for cls, count in class_counts.items()}\n",
        "\n",
        "# Define uma função para calcular a probabilidade condicional de uma palavra dada a classe\n",
        "  # Fórmula com suavização de Laplace: P(palavra | classe) = (contagem(palavra) + alpha) / (total de palavras + alpha * número de palavras únicas)\n",
        "def conditional_probability(word, label, alpha=1):\n",
        "  return (word_counts[label][word] + alpha) / (total_words[label] + alpha * len(word_counts[label]))\n",
        "\n",
        "# Passo 4 - Classificar um novo Texto\n",
        "  # Este passo implementa a classificação de um texto com base nas probabilidades.\n",
        "\n",
        "# Define uma função para prever a classe de um novo texto.\n",
        "def predict(text):\n",
        "    words = preprocess_text(text)  # Pré-processa o texto de entrada.\n",
        "    probabilities = {}  # Dicionário para armazenar as probabilidades de cada classe.\n",
        "\n",
        "    # Para cada classe, calcula a probabilidade do texto pertencer a ela.\n",
        "    for label in class_counts.keys():\n",
        "        probabilities[label] = prior_probabilities[label]  # Começa com a probabilidade a priori da classe.\n",
        "        for word in words:\n",
        "            probabilities[label] *= conditional_probability(word, label)  # Multiplica pela probabilidade condicional de cada palavra.\n",
        "\n",
        "    # Retorna a classe com maior probabilidade e as probabilidades calculadas.\n",
        "    return max(probabilities, key=probabilities.get), probabilities"
      ]
    },
    {
      "cell_type": "markdown",
      "source": [
        "### Passo 5 realizar o teste com novo texto\n",
        "* Comando:\n",
        "  * print(f'Texto: \"{novo_texto}\"') - imprime o valor do novo texto informado na linha 2 da celula abaixo"
      ],
      "metadata": {
        "id": "YlG6rRAgLazz"
      }
    },
    {
      "cell_type": "code",
      "source": [
        "# Passo 5 - Teste com um novo texto\n",
        "  # Testa a função de predição com um exemplo.\n",
        "novo_texto = \"Eu amo resolver bugs\"\n",
        "classe, probs = predict(novo_texto)  # Faz a predição do texto.\n",
        "\n",
        "# Exibe os resultados.\n",
        "print(f'Texto: \"{novo_texto}\"')\n",
        "print(f'Classe prevista: `{classe}`')\n",
        "print(f'Probabilidades:')\n",
        "for label, prob in probs.items():\n",
        "    print(f\" {label}: {prob}\")"
      ],
      "metadata": {
        "colab": {
          "base_uri": "https://localhost:8080/"
        },
        "id": "cSGqSb2OLwLo",
        "outputId": "a8adeee7-d984-41c5-9779-a97d3a65e9af"
      },
      "execution_count": 2,
      "outputs": [
        {
          "output_type": "stream",
          "name": "stdout",
          "text": [
            "Texto: \"Eu amo resolver bugs\"\n",
            "Classe prevista: `positivo`\n",
            "Probabilidades:\n",
            " positivo: 0.008567858630332596\n",
            " negativo: 0.004114285714285715\n"
          ]
        }
      ]
    },
    {
      "cell_type": "markdown",
      "source": [
        "## Exemplo 2 - Classificação do SVM (Support Vector Machines)"
      ],
      "metadata": {
        "id": "6P8fci6xLmyo"
      }
    },
    {
      "cell_type": "code",
      "source": [
        "!pip install scikit-learn"
      ],
      "metadata": {
        "colab": {
          "base_uri": "https://localhost:8080/"
        },
        "id": "eTQScu1NLoZ2",
        "outputId": "b5f14b68-6cc2-46fb-f5ee-a15204a6963a"
      },
      "execution_count": 3,
      "outputs": [
        {
          "output_type": "stream",
          "name": "stdout",
          "text": [
            "Requirement already satisfied: scikit-learn in /usr/local/lib/python3.10/dist-packages (1.5.2)\n",
            "Requirement already satisfied: numpy>=1.19.5 in /usr/local/lib/python3.10/dist-packages (from scikit-learn) (1.26.4)\n",
            "Requirement already satisfied: scipy>=1.6.0 in /usr/local/lib/python3.10/dist-packages (from scikit-learn) (1.13.1)\n",
            "Requirement already satisfied: joblib>=1.2.0 in /usr/local/lib/python3.10/dist-packages (from scikit-learn) (1.4.2)\n",
            "Requirement already satisfied: threadpoolctl>=3.1.0 in /usr/local/lib/python3.10/dist-packages (from scikit-learn) (3.5.0)\n"
          ]
        }
      ]
    },
    {
      "cell_type": "code",
      "source": [
        "# Passo 1 Importação das bibliotecas a serem utilizadas\n",
        "from sklearn.feature_extraction.text import TfidfVectorizer\n",
        "from sklearn.svm import SVC\n",
        "from sklearn.model_selection import train_test_split\n",
        "from sklearn.metrics import classification_report\n",
        "\n",
        "# Passo 2 Dados Exemplo\n",
        "corpus = [\n",
        "    \"Eu amo PLN\", \"Eu odeio bugs\", \"Eu amo resolver problemas\",\n",
        "    \"Odeio erros\",\"Amo programação\",\"Não gosto de falhas\"\n",
        "]\n",
        "classes = [\"positivo\",\"negativo\",\"positivo\",\"negativo\",\"positivo\",\"negativo\"]\n",
        "\n",
        "# Passo 3 - Pré-processamento e vetorização\n",
        "  # TfidfVectorizer converte texto em uma matriz numérica baseada na frequência inversa do termo (TF-IDF).\n",
        "  # Cada palavra é transformada em um valor que reflete sua importância relativa no corpus.\n",
        "vectorizer = TfidfVectorizer()\n",
        "X = vectorizer.fit_transform(corpus)  # Ajusta o vetorizador ao corpus e transforma o texto em números.\n",
        "y = classes  # As classes correspondentes (rótulos).\n",
        "\n",
        "# Passo 4 - Dividir os dados e treinar o modelo\n",
        "  # Divide os dados em conjuntos de treino (70%) e teste (30%).\n",
        "  # random_state garante que a divisão seja reproduzível.\n",
        "X_train, X_test, y_train, y_test = train_test_split(X, y, test_size=0.3, random_state=42)\n",
        "\n",
        "# Cria um modelo de SVM com kernel linear (linha de decisão linear entre as classes).\n",
        "svm_model = SVC(kernel='linear')\n",
        "svm_model.fit(X_train, y_train)  # Treina o modelo com os dados de treino.\n",
        "\n",
        "# Passo 5 - Avaliar o modelo\n",
        "  # Faz previsões no conjunto de teste usando o modelo treinado.\n",
        "y_pred = svm_model.predict(X_test)\n",
        "\n",
        "# Gera um relatório de classificação contendo precisão, recall e F1-score para cada classe.\n",
        "print(classification_report(y_test, y_pred))"
      ],
      "metadata": {
        "colab": {
          "base_uri": "https://localhost:8080/"
        },
        "id": "fw6069vSL2qw",
        "outputId": "42cadcdd-b57d-4db3-937b-b59483484a47"
      },
      "execution_count": 4,
      "outputs": [
        {
          "output_type": "stream",
          "name": "stdout",
          "text": [
            "              precision    recall  f1-score   support\n",
            "\n",
            "    negativo       1.00      1.00      1.00         1\n",
            "    positivo       1.00      1.00      1.00         1\n",
            "\n",
            "    accuracy                           1.00         2\n",
            "   macro avg       1.00      1.00      1.00         2\n",
            "weighted avg       1.00      1.00      1.00         2\n",
            "\n"
          ]
        }
      ]
    },
    {
      "cell_type": "markdown",
      "source": [
        "## Exemplo 3 - Comparando os Classificadores com Scikit-learn"
      ],
      "metadata": {
        "id": "IQ6YtVO0L6xT"
      }
    },
    {
      "cell_type": "code",
      "source": [
        "# 1.Importar Bibliotecas\n",
        "import nltk\n",
        "from sklearn.feature_extraction.text import TfidfVectorizer\n",
        "from sklearn.model_selection import train_test_split\n",
        "from sklearn.naive_bayes import MultinomialNB\n",
        "from sklearn.svm import SVC\n",
        "from sklearn.metrics import classification_report\n",
        "\n",
        "  # Baixar o dataset de exemplo\n",
        "nltk.download('movie_reviews')\n",
        "from nltk.corpus import movie_reviews\n",
        "\n",
        "# 2. Preparação dos dados\n",
        "\n",
        "  # Coleta de textos e classes\n",
        "    # Combina as palavras de cada documento em uma única string, associando-as à sua categoria (positiva ou negativa).\n",
        "documents = [(\" \".join(movie_reviews.words(fileid)), category)\n",
        "             for category in movie_reviews.categories()\n",
        "             for fileid in movie_reviews.fileids(category)]\n",
        "\n",
        "  # Separar textos e rótulos\n",
        "    # Divide os documentos em textos (as resenhas) e rótulos (positivo/negativo).\n",
        "texts, labels = zip(*documents)\n",
        "\n",
        "  # Transformar rótulos (positivo/negativo) em 0 e 1\n",
        "    # Converte as categorias textuais em valores numéricos para facilitar o uso nos modelos.\n",
        "from sklearn.preprocessing import LabelEncoder\n",
        "label_encoder = LabelEncoder()\n",
        "labels = label_encoder.fit_transform(labels)  # \"positivo\" se torna 1 e \"negativo\" se torna 0.\n",
        "\n",
        "  # Dividir dados em treino e teste\n",
        "    # Divide os textos e rótulos em conjuntos de treino (70%) e teste (30%).\n",
        "texts_train, texts_test, labels_train, labels_test = train_test_split(texts, labels, test_size=0.3, random_state=42)\n",
        "\n",
        "# 3. Representação do texto com TF-IDF\n",
        "  # Criar o vetorizador TF-IDF\n",
        "    # Limita o vocabulário a 5.000 palavras mais frequentes para reduzir a dimensionalidade.\n",
        "vectorizer = TfidfVectorizer(max_features=5000)\n",
        "\n",
        "  # Ajustar e transformar os textos\n",
        "    # Ajusta o vetorizador aos textos de treino e os transforma em matrizes numéricas (TF-IDF).\n",
        "X_train = vectorizer.fit_transform(texts_train)\n",
        "  # Transforma os textos de teste com base no vetorizador ajustado nos dados de treino.\n",
        "X_test = vectorizer.transform(texts_test)\n",
        "\n",
        "# 4. Treinar os modelos\n",
        "  # Treinamento do Naive Bayes\n",
        "    # Ajusta o modelo Naive Bayes Multinomial aos dados de treino.\n",
        "nb_model = MultinomialNB()\n",
        "nb_model.fit(X_train, labels_train)\n",
        "\n",
        "  # Treinamento do SVM\n",
        "    # Ajusta o modelo SVM com um kernel linear aos dados de treino.\n",
        "svm_model = SVC(kernel='linear')\n",
        "svm_model.fit(X_train, labels_train)\n",
        "\n",
        "  # Predição\n",
        "    # Usa o modelo treinado para prever os rótulos dos dados de teste.\n",
        "nb_predictions = nb_model.predict(X_test)\n",
        "svm_predictions = svm_model.predict(X_test)\n",
        "\n",
        "# 5. Avaliação\n",
        "  # Avaliação do Naive Bayes\n",
        "    # Exibe métricas de desempenho como precisão, recall e F1-score para o modelo Naive Bayes.\n",
        "print(\"Naive Bayes Performance:\")\n",
        "print(classification_report(labels_test, nb_predictions, target_names=label_encoder.classes_))\n",
        "\n",
        "  # Avaliação do SVM\n",
        "    # Exibe métricas de desempenho como precisão, recall e F1-score para o modelo SVM.\n",
        "print(\"SVM Performance:\")\n",
        "print(classification_report(labels_test, svm_predictions, target_names=label_encoder.classes_))"
      ],
      "metadata": {
        "colab": {
          "base_uri": "https://localhost:8080/"
        },
        "id": "W0RFtwwHMAeS",
        "outputId": "1507e6ac-c17d-4367-d1ee-ffcbfaac6966"
      },
      "execution_count": 5,
      "outputs": [
        {
          "output_type": "stream",
          "name": "stderr",
          "text": [
            "[nltk_data] Downloading package movie_reviews to /root/nltk_data...\n",
            "[nltk_data]   Unzipping corpora/movie_reviews.zip.\n"
          ]
        },
        {
          "output_type": "stream",
          "name": "stdout",
          "text": [
            "Naive Bayes Performance:\n",
            "              precision    recall  f1-score   support\n",
            "\n",
            "         neg       0.79      0.84      0.81       302\n",
            "         pos       0.82      0.77      0.80       298\n",
            "\n",
            "    accuracy                           0.80       600\n",
            "   macro avg       0.80      0.80      0.80       600\n",
            "weighted avg       0.80      0.80      0.80       600\n",
            "\n",
            "SVM Performance:\n",
            "              precision    recall  f1-score   support\n",
            "\n",
            "         neg       0.82      0.80      0.81       302\n",
            "         pos       0.81      0.82      0.81       298\n",
            "\n",
            "    accuracy                           0.81       600\n",
            "   macro avg       0.81      0.81      0.81       600\n",
            "weighted avg       0.81      0.81      0.81       600\n",
            "\n"
          ]
        }
      ]
    }
  ]
}